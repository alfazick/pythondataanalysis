{
  "nbformat": 4,
  "nbformat_minor": 0,
  "metadata": {
    "colab": {
      "provenance": [],
      "authorship_tag": "ABX9TyNaYrPZ9HE2QEKD6Rb9qdqm",
      "include_colab_link": true
    },
    "kernelspec": {
      "name": "python3",
      "display_name": "Python 3"
    },
    "language_info": {
      "name": "python"
    }
  },
  "cells": [
    {
      "cell_type": "markdown",
      "metadata": {
        "id": "view-in-github",
        "colab_type": "text"
      },
      "source": [
        "<a href=\"https://colab.research.google.com/github/alfazick/pythondataanalysis/blob/main/001python_data.ipynb\" target=\"_parent\"><img src=\"https://colab.research.google.com/assets/colab-badge.svg\" alt=\"Open In Colab\"/></a>"
      ]
    },
    {
      "cell_type": "code",
      "execution_count": 1,
      "metadata": {
        "id": "3BAmiC6ll82X"
      },
      "outputs": [],
      "source": [
        "# analytics process\n",
        "# 1)process the data\n",
        "# 2)describe the data\n",
        "# 3)clean the data\n",
        "# 4)visualize the data"
      ]
    },
    {
      "cell_type": "code",
      "source": [
        "# Counter\n",
        "from collections import Counter\n",
        "numbers = [22,22,25,25,30,30,30]\n",
        "value_counts = Counter(numbers)\n",
        "print(value_counts)\n",
        "#"
      ],
      "metadata": {
        "colab": {
          "base_uri": "https://localhost:8080/"
        },
        "id": "7fz793LomluV",
        "outputId": "5a105313-9f3c-4b0c-bc4b-6f7678dbbcff"
      },
      "execution_count": 2,
      "outputs": [
        {
          "output_type": "stream",
          "name": "stdout",
          "text": [
            "Counter({30: 3, 22: 2, 25: 2})\n"
          ]
        }
      ]
    },
    {
      "cell_type": "code",
      "source": [
        "value_counts.most_common(2)"
      ],
      "metadata": {
        "colab": {
          "base_uri": "https://localhost:8080/"
        },
        "id": "kZ2Elr9Cnbol",
        "outputId": "8baf4104-4194-483b-ab5a-d04611606484"
      },
      "execution_count": 4,
      "outputs": [
        {
          "output_type": "execute_result",
          "data": {
            "text/plain": [
              "[(30, 3), (22, 2)]"
            ]
          },
          "metadata": {},
          "execution_count": 4
        }
      ]
    },
    {
      "cell_type": "code",
      "source": [
        "# lambda anonymous function\n",
        "\n",
        "y = lambda x,z: x+z\n",
        "y(2,3)"
      ],
      "metadata": {
        "colab": {
          "base_uri": "https://localhost:8080/"
        },
        "id": "-swGKuB9nd11",
        "outputId": "dfb97b6e-6b40-4368-9d35-a243623e7f1a"
      },
      "execution_count": 5,
      "outputs": [
        {
          "output_type": "execute_result",
          "data": {
            "text/plain": [
              "5"
            ]
          },
          "metadata": {},
          "execution_count": 5
        }
      ]
    },
    {
      "cell_type": "code",
      "source": [
        "y(10,5)"
      ],
      "metadata": {
        "colab": {
          "base_uri": "https://localhost:8080/"
        },
        "id": "GJG3Acygntps",
        "outputId": "ec5bef09-b7bf-4f4b-c62a-d7d44a069ba8"
      },
      "execution_count": 6,
      "outputs": [
        {
          "output_type": "execute_result",
          "data": {
            "text/plain": [
              "15"
            ]
          },
          "metadata": {},
          "execution_count": 6
        }
      ]
    },
    {
      "cell_type": "code",
      "source": [
        "# list comprehensions\n",
        "numbers_gt_5 = [x for x in range(1,15) if x > 5]\n",
        "numbers_gt_5"
      ],
      "metadata": {
        "colab": {
          "base_uri": "https://localhost:8080/"
        },
        "id": "1eM1R0O9nv4M",
        "outputId": "3f9912ef-acf2-44ff-f340-bb07237fbd21"
      },
      "execution_count": 7,
      "outputs": [
        {
          "output_type": "execute_result",
          "data": {
            "text/plain": [
              "[6, 7, 8, 9, 10, 11, 12, 13, 14]"
            ]
          },
          "metadata": {},
          "execution_count": 7
        }
      ]
    },
    {
      "cell_type": "code",
      "source": [
        "nums_plus_one = [x+1 for x in range(5)]\n",
        "nums_plus_one"
      ],
      "metadata": {
        "colab": {
          "base_uri": "https://localhost:8080/"
        },
        "id": "JFgQL7bJow2d",
        "outputId": "c9fef10c-4e21-4617-b00a-e48042b2cdd6"
      },
      "execution_count": 8,
      "outputs": [
        {
          "output_type": "execute_result",
          "data": {
            "text/plain": [
              "[1, 2, 3, 4, 5]"
            ]
          },
          "metadata": {},
          "execution_count": 8
        }
      ]
    },
    {
      "cell_type": "code",
      "source": [
        "# sorted\n",
        "my_list = [2,10,1,-5,22]\n",
        "\n",
        "my_list_sorted_abs = sorted(my_list, key=abs,reverse=True)\n",
        "my_list_sorted_abs"
      ],
      "metadata": {
        "colab": {
          "base_uri": "https://localhost:8080/"
        },
        "id": "xdMJZZ5to5rx",
        "outputId": "72fe2ab7-164f-41f1-d38b-e4559053dd5e"
      },
      "execution_count": 12,
      "outputs": [
        {
          "output_type": "execute_result",
          "data": {
            "text/plain": [
              "[22, 10, -5, 2, 1]"
            ]
          },
          "metadata": {},
          "execution_count": 12
        }
      ]
    },
    {
      "cell_type": "code",
      "source": [
        "# zip function\n",
        "\n",
        "nums = [1,2,3]\n",
        "letters = ['a','b','c']\n",
        "for pair in zip(nums,letters):\n",
        "    print(pair)"
      ],
      "metadata": {
        "colab": {
          "base_uri": "https://localhost:8080/"
        },
        "id": "Vwt1P4RTpJJ2",
        "outputId": "2f64c340-eeef-4cd9-8311-c0aa794aea51"
      },
      "execution_count": 13,
      "outputs": [
        {
          "output_type": "stream",
          "name": "stdout",
          "text": [
            "(1, 'a')\n",
            "(2, 'b')\n",
            "(3, 'c')\n"
          ]
        }
      ]
    },
    {
      "cell_type": "code",
      "source": [
        "lst = list(zip(nums,letters))\n",
        "lst"
      ],
      "metadata": {
        "colab": {
          "base_uri": "https://localhost:8080/"
        },
        "id": "8gxL5bG5pSfn",
        "outputId": "6a677152-c2b9-4bd7-a05d-de9cbe7387a6"
      },
      "execution_count": 14,
      "outputs": [
        {
          "output_type": "execute_result",
          "data": {
            "text/plain": [
              "[(1, 'a'), (2, 'b'), (3, 'c')]"
            ]
          },
          "metadata": {},
          "execution_count": 14
        }
      ]
    },
    {
      "cell_type": "code",
      "source": [
        "unpack_nums, unpack_letters = zip(*lst)\n",
        "unpack_nums"
      ],
      "metadata": {
        "colab": {
          "base_uri": "https://localhost:8080/"
        },
        "id": "cJdFdWPjpXNQ",
        "outputId": "a35d868c-4ea3-4278-c380-be635d0aa3c9"
      },
      "execution_count": 15,
      "outputs": [
        {
          "output_type": "execute_result",
          "data": {
            "text/plain": [
              "(1, 2, 3)"
            ]
          },
          "metadata": {},
          "execution_count": 15
        }
      ]
    },
    {
      "cell_type": "code",
      "source": [
        "unpack_letters"
      ],
      "metadata": {
        "colab": {
          "base_uri": "https://localhost:8080/"
        },
        "id": "FMYd5s_YpdkI",
        "outputId": "0fb63e8a-0aaa-4538-ad64-2fbb9172c2fa"
      },
      "execution_count": 16,
      "outputs": [
        {
          "output_type": "execute_result",
          "data": {
            "text/plain": [
              "('a', 'b', 'c')"
            ]
          },
          "metadata": {},
          "execution_count": 16
        }
      ]
    },
    {
      "cell_type": "code",
      "source": [
        "# NUMPY\n",
        "import numpy as np"
      ],
      "metadata": {
        "id": "mleVGu7lpfQa"
      },
      "execution_count": 17,
      "outputs": []
    },
    {
      "cell_type": "code",
      "source": [
        "np_array = np.array([1,2,3])\n",
        "np_array"
      ],
      "metadata": {
        "colab": {
          "base_uri": "https://localhost:8080/"
        },
        "id": "_7Y0RnsJp4VE",
        "outputId": "7c4ac6ad-612e-4da0-b4a9-3d84872ea23b"
      },
      "execution_count": 18,
      "outputs": [
        {
          "output_type": "execute_result",
          "data": {
            "text/plain": [
              "array([1, 2, 3])"
            ]
          },
          "metadata": {},
          "execution_count": 18
        }
      ]
    },
    {
      "cell_type": "code",
      "source": [
        "# standard deviation\n",
        "np.std(np_array)"
      ],
      "metadata": {
        "colab": {
          "base_uri": "https://localhost:8080/"
        },
        "id": "6nTdht8Wp8pJ",
        "outputId": "d9945f3d-2eb1-45d0-98d0-ec50e7fbe549"
      },
      "execution_count": 19,
      "outputs": [
        {
          "output_type": "execute_result",
          "data": {
            "text/plain": [
              "0.816496580927726"
            ]
          },
          "metadata": {},
          "execution_count": 19
        }
      ]
    },
    {
      "cell_type": "code",
      "source": [
        "# max\n",
        "np.max(np_array)"
      ],
      "metadata": {
        "colab": {
          "base_uri": "https://localhost:8080/"
        },
        "id": "y6cd_lBsqBeF",
        "outputId": "a03fc199-0136-499d-93e8-ea4cc1b305a8"
      },
      "execution_count": 20,
      "outputs": [
        {
          "output_type": "execute_result",
          "data": {
            "text/plain": [
              "3"
            ]
          },
          "metadata": {},
          "execution_count": 20
        }
      ]
    },
    {
      "cell_type": "code",
      "source": [
        "# broadcast\n",
        "np_array + 2"
      ],
      "metadata": {
        "colab": {
          "base_uri": "https://localhost:8080/"
        },
        "id": "oJj0auJJqEHf",
        "outputId": "beb60320-b1f7-4023-d451-5b98c6193af2"
      },
      "execution_count": 21,
      "outputs": [
        {
          "output_type": "execute_result",
          "data": {
            "text/plain": [
              "array([3, 4, 5])"
            ]
          },
          "metadata": {},
          "execution_count": 21
        }
      ]
    },
    {
      "cell_type": "code",
      "source": [
        "# element_wise\n",
        "np_array + np_array"
      ],
      "metadata": {
        "colab": {
          "base_uri": "https://localhost:8080/"
        },
        "id": "emgI-pv2qIKV",
        "outputId": "a69f9144-b440-4ab5-f455-6b0f339dd653"
      },
      "execution_count": 22,
      "outputs": [
        {
          "output_type": "execute_result",
          "data": {
            "text/plain": [
              "array([2, 4, 6])"
            ]
          },
          "metadata": {},
          "execution_count": 22
        }
      ]
    },
    {
      "cell_type": "code",
      "source": [
        "#shape\n",
        "np_array.shape"
      ],
      "metadata": {
        "colab": {
          "base_uri": "https://localhost:8080/"
        },
        "id": "KW0NRzP-qMcC",
        "outputId": "c4aa60fc-55da-4502-bac2-04a767e8f351"
      },
      "execution_count": 23,
      "outputs": [
        {
          "output_type": "execute_result",
          "data": {
            "text/plain": [
              "(3,)"
            ]
          },
          "metadata": {},
          "execution_count": 23
        }
      ]
    },
    {
      "cell_type": "code",
      "source": [
        "#sum of squares\n",
        "np.sum(np_array**2)"
      ],
      "metadata": {
        "colab": {
          "base_uri": "https://localhost:8080/"
        },
        "id": "A9u1qGIIqR1E",
        "outputId": "8311ecba-fc97-4a04-9301-d0afe503615c"
      },
      "execution_count": 24,
      "outputs": [
        {
          "output_type": "execute_result",
          "data": {
            "text/plain": [
              "14"
            ]
          },
          "metadata": {},
          "execution_count": 24
        }
      ]
    },
    {
      "cell_type": "code",
      "source": [
        "# 2D array\n",
        "np_2d = np.array([[1,2,3],[4,5,6]])\n",
        "np_2d"
      ],
      "metadata": {
        "colab": {
          "base_uri": "https://localhost:8080/"
        },
        "id": "gIxZIMRdqXRp",
        "outputId": "3a32b779-df5d-4f40-f62f-f0e63e0762f1"
      },
      "execution_count": 25,
      "outputs": [
        {
          "output_type": "execute_result",
          "data": {
            "text/plain": [
              "array([[1, 2, 3],\n",
              "       [4, 5, 6]])"
            ]
          },
          "metadata": {},
          "execution_count": 25
        }
      ]
    },
    {
      "cell_type": "code",
      "source": [
        "# Transpose\n",
        "np_2d.T"
      ],
      "metadata": {
        "colab": {
          "base_uri": "https://localhost:8080/"
        },
        "id": "ei287advqg4L",
        "outputId": "5c1f0bf6-8b1b-4821-c348-5217da0c5cde"
      },
      "execution_count": 26,
      "outputs": [
        {
          "output_type": "execute_result",
          "data": {
            "text/plain": [
              "array([[1, 4],\n",
              "       [2, 5],\n",
              "       [3, 6]])"
            ]
          },
          "metadata": {},
          "execution_count": 26
        }
      ]
    },
    {
      "cell_type": "code",
      "source": [
        "# Shape\n",
        "np_2d.shape"
      ],
      "metadata": {
        "colab": {
          "base_uri": "https://localhost:8080/"
        },
        "id": "ji6K5Lq2qj2g",
        "outputId": "d24a0d4e-3d90-4b91-c074-34a3ccfc31ee"
      },
      "execution_count": 27,
      "outputs": [
        {
          "output_type": "execute_result",
          "data": {
            "text/plain": [
              "(2, 3)"
            ]
          },
          "metadata": {},
          "execution_count": 27
        }
      ]
    },
    {
      "cell_type": "code",
      "source": [
        "np_2d"
      ],
      "metadata": {
        "colab": {
          "base_uri": "https://localhost:8080/"
        },
        "id": "aKtSv8e_q9L9",
        "outputId": "24ce32da-1020-4753-b9c9-14f0e5295441"
      },
      "execution_count": 30,
      "outputs": [
        {
          "output_type": "execute_result",
          "data": {
            "text/plain": [
              "array([[1, 2, 3],\n",
              "       [4, 5, 6]])"
            ]
          },
          "metadata": {},
          "execution_count": 30
        }
      ]
    },
    {
      "cell_type": "code",
      "source": [
        "# access element by index | row,column\n",
        "np_2d[0,1]"
      ],
      "metadata": {
        "colab": {
          "base_uri": "https://localhost:8080/"
        },
        "id": "hfaetTpwqtjl",
        "outputId": "9c6c6216-c2ae-42a4-f7cb-57d5bd2d3488"
      },
      "execution_count": 28,
      "outputs": [
        {
          "output_type": "execute_result",
          "data": {
            "text/plain": [
              "2"
            ]
          },
          "metadata": {},
          "execution_count": 28
        }
      ]
    },
    {
      "cell_type": "code",
      "source": [
        "np_2d[0,2]"
      ],
      "metadata": {
        "colab": {
          "base_uri": "https://localhost:8080/"
        },
        "id": "KzrAcirJq0Ho",
        "outputId": "96ea7420-a781-4f17-e8e9-01fedf17dea0"
      },
      "execution_count": 29,
      "outputs": [
        {
          "output_type": "execute_result",
          "data": {
            "text/plain": [
              "3"
            ]
          },
          "metadata": {},
          "execution_count": 29
        }
      ]
    },
    {
      "cell_type": "code",
      "source": [
        "np_2d[1,1]"
      ],
      "metadata": {
        "colab": {
          "base_uri": "https://localhost:8080/"
        },
        "id": "I1j6_UNPq4D0",
        "outputId": "aee06c00-7122-4f39-c6a4-ceb9b8aa44bd"
      },
      "execution_count": 31,
      "outputs": [
        {
          "output_type": "execute_result",
          "data": {
            "text/plain": [
              "5"
            ]
          },
          "metadata": {},
          "execution_count": 31
        }
      ]
    },
    {
      "cell_type": "code",
      "source": [
        "# numpy useful functions"
      ],
      "metadata": {
        "id": "K0TTLMTLrCdN"
      },
      "execution_count": 32,
      "outputs": []
    },
    {
      "cell_type": "code",
      "source": [
        "# dot product\n",
        "np_array = np.array([1,2,3])\n",
        "# 1*1 + 2*2 + 3*3\n",
        "dot_product = np.dot(np_array,np_array)\n",
        "dot_product\n"
      ],
      "metadata": {
        "colab": {
          "base_uri": "https://localhost:8080/"
        },
        "id": "jskP5Ya8rJ-C",
        "outputId": "37d10b4d-2694-467d-dafe-5fe76fc1f8cd"
      },
      "execution_count": 34,
      "outputs": [
        {
          "output_type": "execute_result",
          "data": {
            "text/plain": [
              "14"
            ]
          },
          "metadata": {},
          "execution_count": 34
        }
      ]
    },
    {
      "cell_type": "code",
      "source": [
        "# random numbers generator\n",
        "np.random.seed(1)"
      ],
      "metadata": {
        "id": "cWnq-CYlrRPS"
      },
      "execution_count": 36,
      "outputs": []
    },
    {
      "cell_type": "code",
      "source": [
        "np.random.rand(1)"
      ],
      "metadata": {
        "colab": {
          "base_uri": "https://localhost:8080/"
        },
        "id": "w25s7WQ7rkz9",
        "outputId": "1581dd17-496a-4a84-adf4-c74fab81cee5"
      },
      "execution_count": 42,
      "outputs": [
        {
          "output_type": "execute_result",
          "data": {
            "text/plain": [
              "array([0.41919451])"
            ]
          },
          "metadata": {},
          "execution_count": 42
        }
      ]
    },
    {
      "cell_type": "code",
      "source": [
        "np.random.rand(3)"
      ],
      "metadata": {
        "colab": {
          "base_uri": "https://localhost:8080/"
        },
        "id": "hAEquS0Ir9gn",
        "outputId": "06c5eb46-241b-43e2-f889-e948ba3fb902"
      },
      "execution_count": 43,
      "outputs": [
        {
          "output_type": "execute_result",
          "data": {
            "text/plain": [
              "array([0.6852195 , 0.20445225, 0.87811744])"
            ]
          },
          "metadata": {},
          "execution_count": 43
        }
      ]
    },
    {
      "cell_type": "code",
      "source": [
        "np.random.rand(3,2)"
      ],
      "metadata": {
        "colab": {
          "base_uri": "https://localhost:8080/"
        },
        "id": "jWHtrULjrsQP",
        "outputId": "86a3bc27-926e-49e8-8314-59cf203b87fc"
      },
      "execution_count": 40,
      "outputs": [
        {
          "output_type": "execute_result",
          "data": {
            "text/plain": [
              "array([[7.20324493e-01, 1.14374817e-04],\n",
              "       [3.02332573e-01, 1.46755891e-01],\n",
              "       [9.23385948e-02, 1.86260211e-01]])"
            ]
          },
          "metadata": {},
          "execution_count": 40
        }
      ]
    },
    {
      "cell_type": "code",
      "source": [
        "np.random.randint(5,15,2)"
      ],
      "metadata": {
        "colab": {
          "base_uri": "https://localhost:8080/"
        },
        "id": "eGujAQ1crzzw",
        "outputId": "14356d3a-251d-47f2-fddd-91f495635f81"
      },
      "execution_count": 44,
      "outputs": [
        {
          "output_type": "execute_result",
          "data": {
            "text/plain": [
              "array([7, 9])"
            ]
          },
          "metadata": {},
          "execution_count": 44
        }
      ]
    },
    {
      "cell_type": "code",
      "source": [
        "np.random.randint(5,15,(3,2))"
      ],
      "metadata": {
        "colab": {
          "base_uri": "https://localhost:8080/"
        },
        "id": "AJGRPfXAsHrT",
        "outputId": "87abcd42-18d4-40e0-8b9e-90a4c2dd6d5b"
      },
      "execution_count": 45,
      "outputs": [
        {
          "output_type": "execute_result",
          "data": {
            "text/plain": [
              "array([[12, 12],\n",
              "       [14,  6],\n",
              "       [12,  5]])"
            ]
          },
          "metadata": {},
          "execution_count": 45
        }
      ]
    },
    {
      "cell_type": "code",
      "source": [
        "# sampling\n",
        "\n",
        "array = np.array([1,2,3,4,5])\n",
        "np.random.choice(array,3,replace=True)"
      ],
      "metadata": {
        "colab": {
          "base_uri": "https://localhost:8080/"
        },
        "id": "noyILk1JsLVY",
        "outputId": "d90e3c47-bfba-49ae-b6b3-6678625589fd"
      },
      "execution_count": 55,
      "outputs": [
        {
          "output_type": "execute_result",
          "data": {
            "text/plain": [
              "array([2, 3, 3])"
            ]
          },
          "metadata": {},
          "execution_count": 55
        }
      ]
    },
    {
      "cell_type": "code",
      "source": [
        "np.random.choice(array,3,replace=False)"
      ],
      "metadata": {
        "colab": {
          "base_uri": "https://localhost:8080/"
        },
        "id": "JmW8mu16sXUY",
        "outputId": "fdaf343d-9689-4166-af48-640bf0a3af21"
      },
      "execution_count": 54,
      "outputs": [
        {
          "output_type": "execute_result",
          "data": {
            "text/plain": [
              "array([2, 5, 1])"
            ]
          },
          "metadata": {},
          "execution_count": 54
        }
      ]
    },
    {
      "cell_type": "code",
      "source": [
        "# shuffle\n",
        "np.random.shuffle(array) # inplace\n",
        "array"
      ],
      "metadata": {
        "colab": {
          "base_uri": "https://localhost:8080/"
        },
        "id": "ATRuM50lsa37",
        "outputId": "50b9e4ed-c69b-43e2-f7b0-e5f040cbba49"
      },
      "execution_count": 56,
      "outputs": [
        {
          "output_type": "execute_result",
          "data": {
            "text/plain": [
              "array([4, 5, 3, 1, 2])"
            ]
          },
          "metadata": {},
          "execution_count": 56
        }
      ]
    },
    {
      "cell_type": "code",
      "source": [
        "# SCIPY"
      ],
      "metadata": {
        "id": "77xAJeI9srEr"
      },
      "execution_count": 58,
      "outputs": []
    },
    {
      "cell_type": "code",
      "source": [
        "from scipy import stats\n",
        "import numpy as np\n",
        "\n",
        "array = np.array([1,2,3,4,5])\n",
        "another_array = np.array([1,2,3,4,5])\n",
        "\n",
        "stats.pearsonr(array,another_array)"
      ],
      "metadata": {
        "colab": {
          "base_uri": "https://localhost:8080/"
        },
        "id": "cw6L1X-sst7A",
        "outputId": "8269affe-77be-47c7-8858-aa396174bc63"
      },
      "execution_count": 60,
      "outputs": [
        {
          "output_type": "execute_result",
          "data": {
            "text/plain": [
              "PearsonRResult(statistic=1.0, pvalue=0.0)"
            ]
          },
          "metadata": {},
          "execution_count": 60
        }
      ]
    },
    {
      "cell_type": "code",
      "source": [
        "# Negative correlation\n",
        "negative_array = np.array([5,4,3,2,1])\n",
        "stats.pearsonr(array, negative_array)  # Will return -1.0"
      ],
      "metadata": {
        "colab": {
          "base_uri": "https://localhost:8080/"
        },
        "id": "OYXpNfqKuee_",
        "outputId": "89d495c0-ed7c-42ec-8b48-b79f172daf0b"
      },
      "execution_count": 63,
      "outputs": [
        {
          "output_type": "execute_result",
          "data": {
            "text/plain": [
              "PearsonRResult(statistic=-1.0, pvalue=0.0)"
            ]
          },
          "metadata": {},
          "execution_count": 63
        }
      ]
    },
    {
      "cell_type": "code",
      "source": [
        "\n",
        "# No correlation\n",
        "random_array = np.array([1,5,2,4,3])\n",
        "stats.pearsonr(array, random_array)  # Will return a value closer to 0"
      ],
      "metadata": {
        "colab": {
          "base_uri": "https://localhost:8080/"
        },
        "id": "I-VI5zWRuCxB",
        "outputId": "2d36f150-e447-4478-86fc-d1beae59a4a7"
      },
      "execution_count": 64,
      "outputs": [
        {
          "output_type": "execute_result",
          "data": {
            "text/plain": [
              "PearsonRResult(statistic=0.30000000000000004, pvalue=0.6238376647810732)"
            ]
          },
          "metadata": {},
          "execution_count": 64
        }
      ]
    },
    {
      "cell_type": "code",
      "source": [],
      "metadata": {
        "id": "13TOpCwhuhey"
      },
      "execution_count": null,
      "outputs": []
    },
    {
      "cell_type": "markdown",
      "source": [
        " p-value helps determine if a statistical result is significant or if it could have occurred by chance. Let me break this down:\n",
        "\n",
        "Basic Definition:\n",
        "The p-value represents the probability of getting results at least as extreme as what you observed, assuming that there is no real relationship in the population (this is called the \"null hypothesis\").\n",
        "Interpretation:\n",
        "\n",
        "\n",
        "A small p-value (typically < 0.05) suggests that the results are unlikely to have occurred by chance\n",
        "A large p-value suggests that the results could easily have occurred by chance"
      ],
      "metadata": {
        "id": "ZqqAZBofuw7A"
      }
    },
    {
      "cell_type": "code",
      "source": [
        "# generating samples"
      ],
      "metadata": {
        "id": "bz4ushtAux02"
      },
      "execution_count": 65,
      "outputs": []
    },
    {
      "cell_type": "code",
      "source": [
        "# normal distribution or gaussian mean and std\n",
        "\n",
        "x = stats.norm.rvs(loc = 0, scale = 10, size = 10)\n",
        "# 10 values randomply sampled from a normal distribution\n",
        "# mean = 0 andd std = 10\n",
        "x\n"
      ],
      "metadata": {
        "colab": {
          "base_uri": "https://localhost:8080/"
        },
        "id": "LBRsem0iu6LT",
        "outputId": "23cee026-b8d8-42f2-8597-79196d4d40d7"
      },
      "execution_count": 66,
      "outputs": [
        {
          "output_type": "execute_result",
          "data": {
            "text/plain": [
              "array([  0.67709788, -10.38905926,  -2.63677447,   5.38250569,\n",
              "        15.28260246,  19.56676852,   4.78200352,   1.1934521 ,\n",
              "        -8.57465206,  -7.61947804])"
            ]
          },
          "metadata": {},
          "execution_count": 66
        }
      ]
    },
    {
      "cell_type": "code",
      "source": [
        "sorted(x)"
      ],
      "metadata": {
        "colab": {
          "base_uri": "https://localhost:8080/"
        },
        "id": "zXTQYIRkvdHB",
        "outputId": "b7ae78ce-7f01-4b24-a359-2e782704f66c"
      },
      "execution_count": 67,
      "outputs": [
        {
          "output_type": "execute_result",
          "data": {
            "text/plain": [
              "[-10.389059260000584,\n",
              " -8.574652055233603,\n",
              " -7.619478040496864,\n",
              " -2.6367744698372175,\n",
              " 0.6770978759740764,\n",
              " 1.1934520974720628,\n",
              " 4.782003522287232,\n",
              " 5.38250568591776,\n",
              " 15.282602461441552,\n",
              " 19.566768523529174]"
            ]
          },
          "metadata": {},
          "execution_count": 67
        }
      ]
    },
    {
      "cell_type": "markdown",
      "source": [
        "A probability density function tells you the relative likelihood of getting different values from a continuous distribution. Here are the key points:\n",
        "\n",
        "The PDF is a function that shows where values in a distribution are more or less likely to occur\n",
        "Important properties:\n",
        "\n",
        "The area under the entire PDF curve must equal 1 (100% probability)\n",
        "The PDF value at any point cannot be negative\n",
        "The PDF gives relative likelihood, not actual probability"
      ],
      "metadata": {
        "id": "2lXQFJxKwFhJ"
      }
    },
    {
      "cell_type": "code",
      "source": [
        "# probability density function\n",
        "p1 = stats.norm.pdf(x = -100, loc = 0, scale = 10)\n",
        "p2 = stats.norm.pdf(x = 0, loc = 0, scale = 10)\n",
        "p3 = stats.norm.pdf(x = 100, loc = 0, scale = 10)\n",
        "print(p1,p2,p3)"
      ],
      "metadata": {
        "colab": {
          "base_uri": "https://localhost:8080/"
        },
        "id": "fDPUUpYjvfsC",
        "outputId": "8fccc7fa-11db-4012-f13b-f4dd631eb123"
      },
      "execution_count": 68,
      "outputs": [
        {
          "output_type": "stream",
          "name": "stdout",
          "text": [
            "7.69459862670642e-24 0.03989422804014327 7.69459862670642e-24\n"
          ]
        }
      ]
    },
    {
      "cell_type": "code",
      "source": [
        "import matplotlib.pyplot as plt\n",
        "\n",
        "# Create some example data\n",
        "x = np.linspace(-4, 4, 100)  # Create 100 points from -4 to 4\n",
        "pdf = stats.norm.pdf(x)  # Get PDF values for standard normal distribution\n",
        "\n",
        "# Plot it\n",
        "plt.plot(x, pdf)\n",
        "plt.title('PDF of Standard Normal Distribution')\n",
        "plt.xlabel('Value')\n",
        "plt.ylabel('Density')"
      ],
      "metadata": {
        "colab": {
          "base_uri": "https://localhost:8080/",
          "height": 490
        },
        "id": "8IHuOCpjwTcM",
        "outputId": "ee2f3b39-be01-4d5a-b849-1466b4dde3f4"
      },
      "execution_count": 69,
      "outputs": [
        {
          "output_type": "execute_result",
          "data": {
            "text/plain": [
              "Text(0, 0.5, 'Density')"
            ]
          },
          "metadata": {},
          "execution_count": 69
        },
        {
          "output_type": "display_data",
          "data": {
            "text/plain": [
              "<Figure size 640x480 with 1 Axes>"
            ],
            "image/png": "[encoded data removed]"
          },
          "metadata": {}
        }
      ]
    },
    {
      "cell_type": "markdown",
      "source": [
        "Cumulative distribution function CDF gives you the probability that a random value drawn from the distribution will be less than or equal to a specific value x"
      ],
      "metadata": {
        "id": "76mMlSVvwt0n"
      }
    },
    {
      "cell_type": "code",
      "source": [
        "p1 = stats.norm.cdf(x=0, loc=0, scale=10)  # Get probability of sampling a value less than or equal to 0\n",
        "p1"
      ],
      "metadata": {
        "colab": {
          "base_uri": "https://localhost:8080/"
        },
        "id": "AKUQaMb0wb8q",
        "outputId": "87f089aa-eb32-4973-a68d-6f963b0d8afa"
      },
      "execution_count": 71,
      "outputs": [
        {
          "output_type": "execute_result",
          "data": {
            "text/plain": [
              "0.5"
            ]
          },
          "metadata": {},
          "execution_count": 71
        }
      ]
    },
    {
      "cell_type": "code",
      "source": [
        "p2 = stats.norm.cdf(x=5, loc=0, scale=10)  # Get probability of sampling a value less than or equal to 5\n",
        "p2"
      ],
      "metadata": {
        "colab": {
          "base_uri": "https://localhost:8080/"
        },
        "id": "vYPQmwUKw0Ol",
        "outputId": "17188514-48be-4326-ae81-3656c8e20c96"
      },
      "execution_count": 72,
      "outputs": [
        {
          "output_type": "execute_result",
          "data": {
            "text/plain": [
              "0.6914624612740131"
            ]
          },
          "metadata": {},
          "execution_count": 72
        }
      ]
    },
    {
      "cell_type": "code",
      "source": [
        "p3 = stats.norm.cdf(x=-5, loc=0, scale=1)  # Get probability of sampling a value less than or equal to -5\n",
        "p3"
      ],
      "metadata": {
        "colab": {
          "base_uri": "https://localhost:8080/"
        },
        "id": "rXfojT-jw4ih",
        "outputId": "16460fa5-5d07-4849-a279-48f9994ce879"
      },
      "execution_count": 76,
      "outputs": [
        {
          "output_type": "execute_result",
          "data": {
            "text/plain": [
              "2.866515718791933e-07"
            ]
          },
          "metadata": {},
          "execution_count": 76
        }
      ]
    },
    {
      "cell_type": "code",
      "source": [
        "# Create data points\n",
        "x = np.linspace(-4, 4, 100)\n",
        "\n",
        "# Calculate CDF for standard normal distribution\n",
        "cdf = stats.norm.cdf(x)\n",
        "\n",
        "# For example, probability of getting value <= 0\n",
        "prob_leq_0 = stats.norm.cdf(0)  # This will be 0.5 for standard normal\n",
        "prob_leq_0"
      ],
      "metadata": {
        "colab": {
          "base_uri": "https://localhost:8080/"
        },
        "id": "h-YdkhF3w8nc",
        "outputId": "4a3f0f22-5500-44ee-87f8-ffbb6f6bd603"
      },
      "execution_count": 78,
      "outputs": [
        {
          "output_type": "execute_result",
          "data": {
            "text/plain": [
              "0.5"
            ]
          },
          "metadata": {},
          "execution_count": 78
        }
      ]
    },
    {
      "cell_type": "code",
      "source": [],
      "metadata": {
        "id": "_wwoBeq3xLKp"
      },
      "execution_count": null,
      "outputs": []
    },
    {
      "cell_type": "markdown",
      "source": [
        "Key properties of the CDF:\n",
        "\n",
        "Always increases from left to right (monotonically increasing)\n",
        "Starts at 0 as x approaches negative infinity\n",
        "Ends at 1 as x approaches positive infinity\n",
        "For the standard normal distribution:\n",
        "\n",
        "CDF(0) = 0.5 (50% chance of getting value ≤ 0)\n",
        "CDF(1) ≈ 0.84 (84% chance of getting value ≤ 1)\n",
        "CDF(-1) ≈ 0.16 (16% chance of getting value ≤ -1)\n",
        "\n",
        "\n",
        "\n",
        "The relationship between PDF and CDF:\n",
        "\n",
        "The CDF is the integral (area under the curve) of the PDF up to point x\n",
        "The PDF is the derivative of the CDF"
      ],
      "metadata": {
        "id": "2i5W4-hjxZEr"
      }
    },
    {
      "cell_type": "code",
      "source": [
        "import numpy as np\n",
        "from scipy import stats\n",
        "import matplotlib.pyplot as plt\n",
        "\n",
        "# Create data points\n",
        "x = np.linspace(-4, 4, 1000)\n",
        "\n",
        "# Get both CDF and PDF\n",
        "cdf = stats.norm.cdf(x)\n",
        "pdf = stats.norm.pdf(x)\n",
        "\n",
        "# Create two subplots\n",
        "fig, (ax1, ax2) = plt.subplots(2, 1, figsize=(10, 8))\n",
        "\n",
        "# Plot CDF\n",
        "ax1.plot(x, cdf, 'b-', label='CDF')\n",
        "ax1.set_title('Cumulative Distribution Function')\n",
        "\n",
        "# Plot PDF\n",
        "ax2.plot(x, pdf, 'r-', label='PDF')\n",
        "ax2.set_title('Probability Density Function')\n",
        "\n",
        "plt.tight_layout()"
      ],
      "metadata": {
        "colab": {
          "base_uri": "https://localhost:8080/",
          "height": 807
        },
        "id": "bax9JFSDxZ37",
        "outputId": "069316f0-56ca-4e6a-b02b-3b36a97b9c67"
      },
      "execution_count": 79,
      "outputs": [
        {
          "output_type": "display_data",
          "data": {
            "text/plain": [
              "<Figure size 1000x800 with 2 Axes>"
            ],
            "image/png": "[encoded data removed]"
          },
          "metadata": {}
        }
      ]
    },
    {
      "cell_type": "code",
      "source": [
        "# descriptive stat\n",
        "stats.describe(stats.norm.rvs(loc=0, scale=1, size=500))"
      ],
      "metadata": {
        "colab": {
          "base_uri": "https://localhost:8080/"
        },
        "id": "Ia4YXwinxjHh",
        "outputId": "aa2aaa87-d709-497a-881f-1d4826f14ce0"
      },
      "execution_count": 81,
      "outputs": [
        {
          "output_type": "execute_result",
          "data": {
            "text/plain": [
              "DescribeResult(nobs=500, minmax=(-2.893042535189577, 3.114833654896224), mean=-0.02667645247970513, variance=0.9971426730597363, skewness=0.05688894614900291, kurtosis=-0.26879042804904607)"
            ]
          },
          "metadata": {},
          "execution_count": 81
        }
      ]
    },
    {
      "cell_type": "code",
      "source": [],
      "metadata": {
        "id": "4erAGiwxx1Cb"
      },
      "execution_count": null,
      "outputs": []
    },
    {
      "cell_type": "markdown",
      "source": [
        "stats.norm.rvs() generates random values from a normal distribution:\n",
        "\n",
        "loc=0: Sets the mean (center) of the distribution\n",
        "scale=1: Sets the standard deviation\n",
        "size=500: Generates 500 random samples\n",
        "\n",
        "\n",
        "stats.describe() returns several key statistics:\n",
        "\n",
        "nobs: Number of observations (500 in this case)\n",
        "minmax: Tuple of (minimum, maximum) values\n",
        "mean: Average of all values\n",
        "variance: Measure of spread (square of standard deviation)\n",
        "skewness: Measure of asymmetry (0 for normal distribution)\n",
        "kurtosis: Measure of \"tailedness\" (0 for normal distribution)"
      ],
      "metadata": {
        "id": "qbGL3kwwyEe1"
      }
    },
    {
      "cell_type": "code",
      "source": [
        "import numpy as np\n",
        "from scipy import stats\n",
        "\n",
        "# Generate random normal data\n",
        "data = stats.norm.rvs(loc=0, scale=1, size=500)\n",
        "\n",
        "# Get descriptive stats\n",
        "desc = stats.describe(data)\n",
        "\n",
        "print(f\"Number of observations: {desc.nobs}\")\n",
        "print(f\"Min, Max: {desc.minmax}\")\n",
        "print(f\"Mean: {desc.mean:.2f}\")\n",
        "print(f\"Variance: {desc.variance:.2f}\")\n",
        "print(f\"Skewness: {desc.skewness:.2f}\")\n",
        "print(f\"Kurtosis: {desc.kurtosis:.2f}\")"
      ],
      "metadata": {
        "colab": {
          "base_uri": "https://localhost:8080/"
        },
        "id": "Z4X8xg9gyFXv",
        "outputId": "a248dfc6-60d9-41a2-9481-78f12b4dd4e5"
      },
      "execution_count": 82,
      "outputs": [
        {
          "output_type": "stream",
          "name": "stdout",
          "text": [
            "Number of observations: 500\n",
            "Min, Max: (-2.82555038063954, 2.995501263092536)\n",
            "Mean: 0.01\n",
            "Variance: 1.00\n",
            "Skewness: 0.04\n",
            "Kurtosis: -0.12\n"
          ]
        }
      ]
    },
    {
      "cell_type": "markdown",
      "source": [
        "Variance (σ²):\n",
        "\n",
        "\n",
        "Measures how spread out numbers are from their average (mean)\n",
        "Is the average of squared differences from the mean\n",
        "Always positive (can't have negative variance)\n",
        "Units are squared (if data is in meters, variance is in meters²)"
      ],
      "metadata": {
        "id": "vOYqtqGYyknM"
      }
    },
    {
      "cell_type": "code",
      "source": [
        "import numpy as np\n",
        "from scipy import stats\n",
        "\n",
        "# Example data\n",
        "data = np.array([1, 2, 2, 3, 3, 3, 4, 4, 5])\n",
        "variance = np.var(data)\n",
        "print(f\"Variance: {variance:.2f}\")"
      ],
      "metadata": {
        "colab": {
          "base_uri": "https://localhost:8080/"
        },
        "id": "mkkTEmkDyIRo",
        "outputId": "1efa41be-02ad-4bc5-9ea1-ec1cdc32d7c6"
      },
      "execution_count": 83,
      "outputs": [
        {
          "output_type": "stream",
          "name": "stdout",
          "text": [
            "Variance: 1.33\n"
          ]
        }
      ]
    },
    {
      "cell_type": "markdown",
      "source": [
        "Skewness:\n",
        "\n",
        "\n",
        "Measures asymmetry in the data distribution\n",
        "Positive skew: long tail on right (higher values)\n",
        "Negative skew: long tail on left (lower values)\n",
        "Zero skew: symmetric (like normal distribution)"
      ],
      "metadata": {
        "id": "QLli3SmOypZb"
      }
    },
    {
      "cell_type": "code",
      "source": [
        "# Different skewness examples\n",
        "right_skewed = np.array([1, 1, 1, 2, 2, 3, 4, 6, 8])  # Tail to right\n",
        "left_skewed = np.array([1, 3, 5, 7, 8, 8, 8, 8, 8])   # Tail to left\n",
        "\n",
        "print(f\"Right skew: {stats.skew(right_skewed):.2f}\")\n",
        "print(f\"Left skew: {stats.skew(left_skewed):.2f}\")"
      ],
      "metadata": {
        "colab": {
          "base_uri": "https://localhost:8080/"
        },
        "id": "2HzsALK8yn9H",
        "outputId": "ae801146-ef70-4391-eb8b-e04af819c3c1"
      },
      "execution_count": 84,
      "outputs": [
        {
          "output_type": "stream",
          "name": "stdout",
          "text": [
            "Right skew: 0.97\n",
            "Left skew: -1.08\n"
          ]
        }
      ]
    },
    {
      "cell_type": "markdown",
      "source": [
        "Kurtosis:\n",
        "\n",
        "\n",
        "Measures how heavy the tails are compared to a normal distribution\n",
        "Positive kurtosis: heavier tails, more outliers\n",
        "Negative kurtosis: lighter tails, fewer outliers\n",
        "Normal distribution has kurtosis = 0 (using scipy's definition)"
      ],
      "metadata": {
        "id": "lwOaRIGoy207"
      }
    },
    {
      "cell_type": "code",
      "source": [
        "import numpy as np\n",
        "from scipy import stats\n",
        "\n",
        "# Kurtosis examples\n",
        "truly_heavy_tails = np.array([1, 2, 2, 2, 3, 4, 4, 4, 10])  # Has outliers\n",
        "truly_light_tails = np.array([2, 2, 2, 3, 3, 3, 4, 4, 4])   # More clustered\n",
        "\n",
        "print(f\"Truly heavy tails kurtosis: {stats.kurtosis(truly_heavy_tails):.2f}\")\n",
        "print(f\"Truly light tails kurtosis: {stats.kurtosis(truly_light_tails):.2f}\")"
      ],
      "metadata": {
        "colab": {
          "base_uri": "https://localhost:8080/"
        },
        "id": "ngW3AyNhyvOo",
        "outputId": "984ed435-3d82-45c3-8e14-95dd7b8feef3"
      },
      "execution_count": 88,
      "outputs": [
        {
          "output_type": "stream",
          "name": "stdout",
          "text": [
            "Truly heavy tails kurtosis: 2.08\n",
            "Truly light tails kurtosis: -1.50\n"
          ]
        }
      ]
    },
    {
      "cell_type": "code",
      "source": [],
      "metadata": {
        "id": "0FFxxc5ny6oL"
      },
      "execution_count": 89,
      "outputs": []
    },
    {
      "cell_type": "code",
      "source": [],
      "metadata": {
        "id": "0azu5Qk5zsu-"
      },
      "execution_count": null,
      "outputs": []
    }
  ]
}